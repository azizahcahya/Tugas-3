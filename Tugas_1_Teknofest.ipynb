{
  "nbformat": 4,
  "nbformat_minor": 0,
  "metadata": {
    "colab": {
      "name": "Tugas 1 Teknofest.ipynb",
      "provenance": []
    },
    "kernelspec": {
      "name": "python3",
      "display_name": "Python 3"
    },
    "language_info": {
      "name": "python"
    }
  },
  "cells": [
    {
      "cell_type": "code",
      "metadata": {
        "colab": {
          "base_uri": "https://localhost:8080/"
        },
        "id": "6PyjfRvJjLXr",
        "outputId": "ade2ace0-ece3-4d17-de1d-e794640546c3"
      },
      "source": [
        "N = int(input(\"N : \"))"
      ],
      "execution_count": null,
      "outputs": [
        {
          "name": "stdout",
          "output_type": "stream",
          "text": [
            "N : 5\n"
          ]
        }
      ]
    },
    {
      "cell_type": "markdown",
      "metadata": {
        "id": "I70UsVvOjZ7E"
      },
      "source": [
        "## Half Pyramid Pattern"
      ]
    },
    {
      "cell_type": "code",
      "metadata": {
        "colab": {
          "base_uri": "https://localhost:8080/"
        },
        "id": "rSe-PorOlrYK",
        "outputId": "3097d3ec-4614-495a-c2c0-0e1e450dd0fb"
      },
      "source": [
        "for i in range(N, 0, -1):i\n",
        "  for i in range(N+1-i):\n",
        "    print(\"*\",end=\" \")\n",
        "  print(\"\\n\")"
      ],
      "execution_count": null,
      "outputs": [
        {
          "output_type": "stream",
          "name": "stdout",
          "text": [
            "* \n",
            "\n",
            "* * \n",
            "\n",
            "* * * \n",
            "\n",
            "* * * * \n",
            "\n",
            "* * * * * \n",
            "\n"
          ]
        }
      ]
    },
    {
      "cell_type": "markdown",
      "metadata": {
        "id": "QMaEHoJNmLYz"
      },
      "source": [
        "## Half inverted pyramid pattern"
      ]
    },
    {
      "cell_type": "code",
      "metadata": {
        "colab": {
          "base_uri": "https://localhost:8080/"
        },
        "id": "9HQpD-nPi8FY",
        "outputId": "a833b0c8-83c4-4ee7-9630-ba3ad589f61d"
      },
      "source": [
        "for i in range(N):\n",
        "  for i in range(N-i):\n",
        "    print(\"*\", end= \" \")\n",
        "  print(\"\\n\")"
      ],
      "execution_count": null,
      "outputs": [
        {
          "output_type": "stream",
          "name": "stdout",
          "text": [
            "* * * * * \n",
            "\n",
            "* * * * \n",
            "\n",
            "* * * \n",
            "\n",
            "* * \n",
            "\n",
            "* \n",
            "\n"
          ]
        }
      ]
    },
    {
      "cell_type": "markdown",
      "metadata": {
        "id": "6nhSc1LBmPWx"
      },
      "source": [
        "## half pyramid pattern mirrored"
      ]
    },
    {
      "cell_type": "code",
      "metadata": {
        "colab": {
          "base_uri": "https://localhost:8080/"
        },
        "id": "48WDV4XhmUUJ",
        "outputId": "922ffd1b-d2fe-42fe-c67d-b839edffe2de"
      },
      "source": [
        "for i in range(N):\n",
        "  for j in range(N,i+1,-1):\n",
        "    print(\" \", end=\" \")\n",
        "  for j in range(i+1):\n",
        "    print(\"*\", end=\" \")\n",
        "  print(\"\\n\")"
      ],
      "execution_count": null,
      "outputs": [
        {
          "output_type": "stream",
          "name": "stdout",
          "text": [
            "        * \n",
            "\n",
            "      * * \n",
            "\n",
            "    * * * \n",
            "\n",
            "  * * * * \n",
            "\n",
            "* * * * * \n",
            "\n"
          ]
        }
      ]
    },
    {
      "cell_type": "markdown",
      "metadata": {
        "id": "hg_LwWFt5k7E"
      },
      "source": [
        "## full pyramid pattern"
      ]
    },
    {
      "cell_type": "code",
      "metadata": {
        "colab": {
          "base_uri": "https://localhost:8080/"
        },
        "id": "xTLLgbza5rzr",
        "outputId": "518494f4-0ed5-4b0b-bead-367227e60b29"
      },
      "source": [
        "for i in range(N):\n",
        "  for j in range(N-i-1):\n",
        "    print(\" \", end=\"\")\n",
        "  for j in range(i+1):\n",
        "    print(\"*\", end=\" \")\n",
        "  print(\"\\n\")"
      ],
      "execution_count": null,
      "outputs": [
        {
          "output_type": "stream",
          "name": "stdout",
          "text": [
            "    * \n",
            "\n",
            "   * * \n",
            "\n",
            "  * * * \n",
            "\n",
            " * * * * \n",
            "\n",
            "* * * * * \n",
            "\n"
          ]
        }
      ]
    },
    {
      "cell_type": "markdown",
      "metadata": {
        "id": "AAtwmMQA_qw6"
      },
      "source": [
        "## full pyramid pattern mirrored"
      ]
    },
    {
      "cell_type": "code",
      "metadata": {
        "colab": {
          "base_uri": "https://localhost:8080/"
        },
        "id": "KSCeViJk_M1y",
        "outputId": "b4a521c8-ab30-40bd-92bd-311793772920"
      },
      "source": [
        "for i in range(N):\n",
        "  for j in range(i+1):\n",
        "    print(\" \", end=\"\")\n",
        "  for j in range(N-i-1):\n",
        "    print(\"*\", end=\" \")\n",
        "  print(\"\\n\")"
      ],
      "execution_count": null,
      "outputs": [
        {
          "output_type": "stream",
          "name": "stdout",
          "text": [
            " * * * * \n",
            "\n",
            "  * * * \n",
            "\n",
            "   * * \n",
            "\n",
            "    * \n",
            "\n",
            "     \n",
            "\n"
          ]
        }
      ]
    }
  ]
}