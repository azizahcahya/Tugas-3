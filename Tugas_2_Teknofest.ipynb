{
  "nbformat": 4,
  "nbformat_minor": 0,
  "metadata": {
    "colab": {
      "name": "Tugas 2 Teknofest.ipynb",
      "provenance": []
    },
    "kernelspec": {
      "name": "python3",
      "display_name": "Python 3"
    },
    "language_info": {
      "name": "python"
    }
  },
  "cells": [
    {
      "cell_type": "markdown",
      "source": [
        "# Azizah Cahya Kemila - 1301194103"
      ],
      "metadata": {
        "id": "zDwMioW35gGg"
      }
    },
    {
      "cell_type": "markdown",
      "source": [
        "# Angka muncul sekali"
      ],
      "metadata": {
        "id": "ZisPLPvdnDH9"
      }
    },
    {
      "cell_type": "code",
      "source": [
        "angka = input()\n",
        "angka = list(map(int, angka))"
      ],
      "metadata": {
        "colab": {
          "base_uri": "https://localhost:8080/"
        },
        "id": "y9JY62TInGkc",
        "outputId": "5879671b-4813-49f1-d3c9-ad323a13190d"
      },
      "execution_count": 43,
      "outputs": [
        {
          "name": "stdout",
          "output_type": "stream",
          "text": [
            "1234123\n"
          ]
        }
      ]
    },
    {
      "cell_type": "code",
      "source": [
        "def nonduplicatedValue(arr):\n",
        "  duplicateValue = []\n",
        "  new_arr = []\n",
        "  for i in range(len(arr)):\n",
        "    for j in range(i+1, len(arr)):\n",
        "      if arr[i] == arr[j]:\n",
        "        duplicateValue.append(arr[i])\n",
        "    k = arr[i]\n",
        "    if k not in duplicateValue:\n",
        "      new_arr.append(arr[i])\n",
        "  return new_arr\n",
        "\n",
        "result = nonduplicatedValue(angka)\n",
        "result"
      ],
      "metadata": {
        "colab": {
          "base_uri": "https://localhost:8080/"
        },
        "id": "n0WpD2Hwu_Ax",
        "outputId": "cefb8808-b49d-44c3-c493-04e71f35a214"
      },
      "execution_count": 44,
      "outputs": [
        {
          "output_type": "execute_result",
          "data": {
            "text/plain": [
              "[4]"
            ]
          },
          "metadata": {},
          "execution_count": 44
        }
      ]
    },
    {
      "cell_type": "markdown",
      "source": [
        "# Penjumlahan Angka"
      ],
      "metadata": {
        "id": "-HF37eNGmH9M"
      }
    },
    {
      "cell_type": "code",
      "source": [
        "numb = []\n",
        "numb = [int(i) for i in input(\"Masukkan Angka : \").split()]\n",
        "target = int(input(\"Target : \"))"
      ],
      "metadata": {
        "colab": {
          "base_uri": "https://localhost:8080/"
        },
        "id": "zfu5unZOmPQb",
        "outputId": "0de53a14-356b-486b-c7c5-89befe304f64"
      },
      "execution_count": 9,
      "outputs": [
        {
          "name": "stdout",
          "output_type": "stream",
          "text": [
            "Masukkan Angka : 1 2 3 4 6\n",
            "Target : 6\n"
          ]
        }
      ]
    },
    {
      "cell_type": "code",
      "source": [
        "def addNumb (arr, target):\n",
        "  result = []\n",
        "  for i in range(len(arr)):\n",
        "    for j in range(len(arr)):\n",
        "      if((arr[i] + arr[j]) == target):\n",
        "        result.append(i)\n",
        "        result.append(j)\n",
        "        return result\n",
        "\n",
        "penjumlahan = addNumb(numb, target)\n",
        "penjumlahan"
      ],
      "metadata": {
        "colab": {
          "base_uri": "https://localhost:8080/"
        },
        "id": "MgRRCud-mhCc",
        "outputId": "d8b5595c-edad-4d30-aec2-17259c61d736"
      },
      "execution_count": 11,
      "outputs": [
        {
          "output_type": "execute_result",
          "data": {
            "text/plain": [
              "[1, 3]"
            ]
          },
          "metadata": {},
          "execution_count": 11
        }
      ]
    },
    {
      "cell_type": "markdown",
      "source": [
        "# Total Kemunculan"
      ],
      "metadata": {
        "id": "GMr4HIdmmEmk"
      }
    },
    {
      "cell_type": "code",
      "execution_count": 45,
      "metadata": {
        "colab": {
          "base_uri": "https://localhost:8080/"
        },
        "id": "7tVWNSCtJjt0",
        "outputId": "e9876921-1001-497a-8595-2bf0982828d9"
      },
      "outputs": [
        {
          "name": "stdout",
          "output_type": "stream",
          "text": [
            "danu danu alif indra indra kurniadi indra\n"
          ]
        }
      ],
      "source": [
        "inpt = input()\n",
        "arrTeks = inpt.split(\" \")"
      ]
    },
    {
      "cell_type": "code",
      "source": [
        "def totalKemunculan(arr):\n",
        "  count = {}\n",
        "  for i in arr:\n",
        "    if i in count:\n",
        "      count[i] += 1\n",
        "    else:\n",
        "      count[i] = 1\n",
        "  return count\n",
        "\n",
        "sortedList = {}\n",
        "result_count = totalKemunculan(arrTeks)\n",
        "sorted_key = sorted(result_count, key=result_count.get)\n",
        "for i in sorted_key:\n",
        "  sortedList[i] = result_count[i]\n",
        "for k,v in sortedList.items():\n",
        "  print(k, \":\", v)"
      ],
      "metadata": {
        "colab": {
          "base_uri": "https://localhost:8080/"
        },
        "id": "SrxoXfqKJ9Wz",
        "outputId": "1114a77c-22e9-4885-b140-dccfba56eb3e"
      },
      "execution_count": 46,
      "outputs": [
        {
          "output_type": "stream",
          "name": "stdout",
          "text": [
            "alif : 1\n",
            "kurniadi : 1\n",
            "danu : 2\n",
            "indra : 3\n"
          ]
        }
      ]
    }
  ]
}